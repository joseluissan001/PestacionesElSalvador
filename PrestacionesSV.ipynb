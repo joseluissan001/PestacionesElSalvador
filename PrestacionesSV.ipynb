{
  "nbformat": 4,
  "nbformat_minor": 0,
  "metadata": {
    "colab": {
      "provenance": []
    },
    "kernelspec": {
      "name": "python3",
      "display_name": "Python 3"
    },
    "language_info": {
      "name": "python"
    }
  },
  "cells": [
    {
      "cell_type": "markdown",
      "source": [
        "Variable de sueldo donde se cambira el valor del sueldo"
      ],
      "metadata": {
        "id": "jJnm7AJT2BLE"
      }
    },
    {
      "cell_type": "code",
      "execution_count": null,
      "metadata": {
        "id": "ajQ-G43I1lSY"
      },
      "outputs": [],
      "source": [
        "# escribir el valor de sueldo mensual aqui\n",
        "sueldo = 5000"
      ]
    },
    {
      "cell_type": "markdown",
      "source": [
        "Calculo AFP 7.25% del sueldo mensual"
      ],
      "metadata": {
        "id": "t1JWc-6C1mDj"
      }
    },
    {
      "cell_type": "code",
      "source": [
        "def calcularafp(valorafp):\n",
        "  afp1 = sueldo * 0.0725\n",
        "  return afp1\n",
        "print (calcularafp(sueldo))\n",
        "afp=calcularafp(sueldo)"
      ],
      "metadata": {
        "colab": {
          "base_uri": "https://localhost:8080/"
        },
        "id": "C2teh6T62M0a",
        "outputId": "9204fa07-b35a-447b-914a-4f89878abd89"
      },
      "execution_count": null,
      "outputs": [
        {
          "output_type": "stream",
          "name": "stdout",
          "text": [
            "362.5\n"
          ]
        }
      ]
    },
    {
      "cell_type": "markdown",
      "source": [
        "Calculo del ISSS 3% menor o igual US$1000 o $30 si es mayor a 1000"
      ],
      "metadata": {
        "id": "trPFW1ik6p1t"
      }
    },
    {
      "cell_type": "code",
      "source": [
        "def calcularisss(valorisss):\n",
        "  if sueldo <=1000:\n",
        "    return sueldo *0.03\n",
        "  else:\n",
        "    return 30\n",
        "print(calcularisss(sueldo))\n",
        "isss=calcularisss(sueldo)"
      ],
      "metadata": {
        "colab": {
          "base_uri": "https://localhost:8080/"
        },
        "id": "UQrWRYIF7OvO",
        "outputId": "1dfa332e-879b-44c9-9acb-f493db14635f"
      },
      "execution_count": null,
      "outputs": [
        {
          "output_type": "stream",
          "name": "stdout",
          "text": [
            "30\n"
          ]
        }
      ]
    },
    {
      "cell_type": "markdown",
      "source": [
        "Varibles de tramo para meter en el condicional"
      ],
      "metadata": {
        "id": "yOeSH4Qf928P"
      }
    },
    {
      "cell_type": "code",
      "source": [
        "#variables de tramos\n",
        "Itramoa=0.01\n",
        "Itramob=472\n",
        "IItramoa=472.01\n",
        "IItramob=895.24\n",
        "IIItramoa=895.25\n",
        "IIItramob=2038.10\n",
        "IVtramoa=2038.11\n",
        "IIctaf=17.67\n",
        "IIIctaf=60.00\n",
        "IVctaf=288.57\n",
        "sueldorete= sueldo-isss-afp"
      ],
      "metadata": {
        "id": "rTmIIOVG_CrW"
      },
      "execution_count": null,
      "outputs": []
    },
    {
      "cell_type": "markdown",
      "source": [
        "Escalonamiento de los tramos de ISR"
      ],
      "metadata": {
        "id": "o6xP_71wfAuF"
      }
    },
    {
      "cell_type": "code",
      "source": [
        "def calcularisr(valorisr):\n",
        "  if sueldorete<=Itramob:\n",
        "    return 0\n",
        "  elif sueldorete <= IItramob:\n",
        "    return ((sueldorete-IItramoa)*0.10)+17.67\n",
        "  elif sueldorete <= IIItramob:\n",
        "    return ((sueldorete-IIItramoa)*0.20)+60\n",
        "  elif sueldorete >= IVtramoa:\n",
        "    return ((sueldorete-IVtramoa)*0.30)+288.57\n",
        "\n",
        "print(calcularisr(sueldorete))\n",
        "retencionisr= round(calcularisr(sueldorete),2)"
      ],
      "metadata": {
        "colab": {
          "base_uri": "https://localhost:8080/"
        },
        "id": "aTWbE0om98vZ",
        "outputId": "b3ca9cab-ea95-4e7f-b158-b7db6e02da20"
      },
      "execution_count": null,
      "outputs": [
        {
          "output_type": "stream",
          "name": "stdout",
          "text": [
            "1059.3870000000002\n"
          ]
        }
      ]
    },
    {
      "cell_type": "markdown",
      "source": [
        "Total pagado en prestaciones"
      ],
      "metadata": {
        "id": "-QGfep8Ze9FX"
      }
    },
    {
      "cell_type": "code",
      "source": [
        "print(sueldo-isss-afp-retencionisr)"
      ],
      "metadata": {
        "colab": {
          "base_uri": "https://localhost:8080/"
        },
        "id": "rgd97QBBGSk2",
        "outputId": "39634722-bd32-4bbd-bf38-b758f0fe9db7"
      },
      "execution_count": null,
      "outputs": [
        {
          "output_type": "stream",
          "name": "stdout",
          "text": [
            "3548.1099999999997\n"
          ]
        }
      ]
    }
  ]
}